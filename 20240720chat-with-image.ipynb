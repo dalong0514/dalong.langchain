{
 "cells": [
  {
   "cell_type": "code",
   "execution_count": 12,
   "metadata": {
    "scrolled": true
   },
   "outputs": [
    {
     "name": "stdout",
     "output_type": "stream",
     "text": [
      "waiting...\n",
      "\n",
      "Time Used: 0.2905776540438334min\n"
     ]
    }
   ],
   "source": [
    "# -*- coding:utf-8 -*-\n",
    "from langchain_openai import ChatOpenAI\n",
    "from langchain.schema import HumanMessage\n",
    "import time, os, glob\n",
    "import api_key as api\n",
    "import common_tools as common_tools\n",
    "from PIL import Image\n",
    "from io import BytesIO\n",
    "import base64\n",
    "\n",
    "api_key = api.openai_api_key()\n",
    "# 将API Key保存为环境变量\n",
    "os.environ[\"OPENAI_API_KEY\"] = api_key\n",
    "model_name = \"gpt-4o-mini\"\n",
    "# model_name = \"gpt-4o\"\n",
    "\n",
    "def image_summarize(img_base64, prompt):\n",
    "    chat = ChatOpenAI(model_name=model_name)\n",
    "    message = HumanMessage(\n",
    "        content=[\n",
    "            {\"type\": \"text\", \"text\": prompt},\n",
    "            {\n",
    "                \"type\": \"image_url\",\n",
    "                \"image_url\": {\"url\": f\"data:image/jpeg;base64,{img_base64}\"}\n",
    "            }\n",
    "        ]\n",
    "    )\n",
    "    response = chat.invoke([message])  # 使用 invoke 方法代替直接调用\n",
    "    return response.content\n",
    "\n",
    "def convert_to_base64(pil_image):\n",
    "    buffered = BytesIO()\n",
    "    pil_image.save(buffered, format=\"png\")\n",
    "    img_str = base64.b64encode(buffered.getvalue()).decode(\"utf-8\")\n",
    "    return img_str\n",
    "\n",
    "def get_sorted_desktop_files(extension=\"png\"):\n",
    "    # 获取桌面上指定扩展名的所有文件（完整路径）\n",
    "    desktop_files = glob.glob(f\"/Users/Daglas/Desktop/*.{extension}\")\n",
    "    # 对完整路径进行排序\n",
    "    sorted_files = sorted(desktop_files)\n",
    "    return sorted_files\n",
    "\n",
    "def chat_with_one_image(file, out_file_name):\n",
    "    pil_image = Image.open(file)  # 打开实际的图像文件\n",
    "    img_base64 = convert_to_base64(pil_image) \n",
    "    output = image_summarize(img_base64, \"将以下图片中的公式转为LaTeX语法，并以markdown格式打印出来\")\n",
    "    with open(out_file_name, \"a\", encoding=\"utf-8\") as file:\n",
    "        file.write(output + \"\\n\\n\")\n",
    "\n",
    "def chat_with_image():\n",
    "    sorted_png_files = get_sorted_desktop_files(\"png\")\n",
    "    for file in sorted_png_files:\n",
    "        chat_with_one_image(file, '/Users/Daglas/Desktop/output.md')\n",
    "\n",
    "if __name__ == \"__main__\":\n",
    "    start_time = time.time()\n",
    "    print('waiting...\\n')\n",
    "    chat_with_image()\n",
    "    end_time = time.time()\n",
    "    print('Time Used: ' + str((end_time - start_time)/60) + 'min')"
   ]
  },
  {
   "cell_type": "code",
   "execution_count": null,
   "metadata": {},
   "outputs": [],
   "source": []
  }
 ],
 "metadata": {
  "kernelspec": {
   "display_name": "Python (llama)",
   "language": "python",
   "name": "llama"
  },
  "language_info": {
   "codemirror_mode": {
    "name": "ipython",
    "version": 3
   },
   "file_extension": ".py",
   "mimetype": "text/x-python",
   "name": "python",
   "nbconvert_exporter": "python",
   "pygments_lexer": "ipython3",
   "version": "3.10.13"
  }
 },
 "nbformat": 4,
 "nbformat_minor": 4
}
