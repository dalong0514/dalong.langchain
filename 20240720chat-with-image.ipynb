{
 "cells": [
  {
   "cell_type": "code",
   "execution_count": 13,
   "metadata": {
    "scrolled": true
   },
   "outputs": [
    {
     "name": "stdout",
     "output_type": "stream",
     "text": [
      "waiting...\n",
      "\n"
     ]
    },
    {
     "data": {
      "text/markdown": [
       "以下是图片中公式的 LaTeX 语法：\n",
       "\n",
       "```latex\n",
       "PE_{(pos,2i)} = \\sin\\left(\\frac{pos}{10000^{\\frac{2i}{d_{\\text{model}}}}}\\right)\n",
       "\n",
       "PE_{(pos,2i+1)} = \\cos\\left(\\frac{pos}{10000^{\\frac{2i}{d_{\\text{model}}}}}\\right)\n",
       "```"
      ],
      "text/plain": [
       "<IPython.core.display.Markdown object>"
      ]
     },
     "metadata": {},
     "output_type": "display_data"
    },
    {
     "name": "stdout",
     "output_type": "stream",
     "text": [
      "Time Used: 0.12784245411554973min\n"
     ]
    }
   ],
   "source": [
    "# -*- coding:utf-8 -*-\n",
    "from langchain_openai import ChatOpenAI\n",
    "from langchain_core.prompts import ChatPromptTemplate\n",
    "from langchain_core.output_parsers import StrOutputParser\n",
    "from langchain_core.runnables import RunnablePassthrough\n",
    "from langchain.schema import HumanMessage\n",
    "import time, os\n",
    "import api_key as api\n",
    "import common_tools as common_tools\n",
    "from PIL import Image\n",
    "from io import BytesIO\n",
    "import base64\n",
    "\n",
    "api_key = api.openai_api_key()\n",
    "# 将API Key保存为环境变量\n",
    "os.environ[\"OPENAI_API_KEY\"] = api_key\n",
    "model_name='gpt-4o-mini'\n",
    "# model_name='gpt-4o'\n",
    "\n",
    "def image_summarize(img_base64, prompt):\n",
    "    chat = ChatOpenAI(model_name=model_name)  # 使用支持图像的模型\n",
    "    message = HumanMessage(\n",
    "        content=[\n",
    "            {\"type\": \"text\", \"text\": prompt},\n",
    "            {\n",
    "                \"type\": \"image_url\",\n",
    "                \"image_url\": {\"url\": f\"data:image/jpeg;base64,{img_base64}\"}\n",
    "            }\n",
    "        ]\n",
    "    )\n",
    "    response = chat([message])\n",
    "    return response.content\n",
    "\n",
    "def convert_to_base64(pil_image):\n",
    "    buffered = BytesIO()\n",
    "    pil_image.save(buffered, format=\"png\")\n",
    "    img_str = base64.b64encode(buffered.getvalue()).decode(\"utf-8\")\n",
    "#     img_str = resize_base64_image(img_str, size=(960, 540)) \n",
    "    return img_str\n",
    "\n",
    "def chat_with_iamge():\n",
    "    pil_image = Image.open(\"/Users/Daglas/Desktop/截屏2024-07-20 22.50.35.png\")  # 打开实际的图像文件\n",
    "    img_base64 = convert_to_base64(pil_image) \n",
    "    output = image_summarize(img_base64, \"将以下图片中的公式转为LaTeX 语法，并以markdown格式打印出来\")\n",
    "    print(output) \n",
    "\n",
    "start_time = time.time()\n",
    "print('waiting...\\n')\n",
    "chat_with_iamge()\n",
    "end_time = time.time()\n",
    "print('Time Used: ' + str((end_time - start_time)/60) + 'min')"
   ]
  },
  {
   "cell_type": "code",
   "execution_count": null,
   "metadata": {},
   "outputs": [],
   "source": []
  }
 ],
 "metadata": {
  "kernelspec": {
   "display_name": "Python (llama)",
   "language": "python",
   "name": "llama"
  },
  "language_info": {
   "codemirror_mode": {
    "name": "ipython",
    "version": 3
   },
   "file_extension": ".py",
   "mimetype": "text/x-python",
   "name": "python",
   "nbconvert_exporter": "python",
   "pygments_lexer": "ipython3",
   "version": "3.10.13"
  }
 },
 "nbformat": 4,
 "nbformat_minor": 4
}
