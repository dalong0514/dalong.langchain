{
 "cells": [
  {
   "cell_type": "code",
   "execution_count": 4,
   "metadata": {},
   "outputs": [
    {
     "name": "stdout",
     "output_type": "stream",
     "text": [
      "waiting...\n",
      "\n",
      "Time Used: 3.0107603470484414min\n"
     ]
    }
   ],
   "source": [
    "# -*- coding:utf-8 -*-\n",
    "from langchain_openai import ChatOpenAI\n",
    "from langchain_core.prompts import ChatPromptTemplate\n",
    "from langchain_core.output_parsers import StrOutputParser\n",
    "from langchain_core.runnables import RunnablePassthrough\n",
    "import time\n",
    "import api_key as api\n",
    "import common_tools as common_tools\n",
    "\n",
    "api_key = api.deepseek_api_key()\n",
    "base_url= 'https://api.deepseek.com/v1'\n",
    "model_name='deepseek-chat'\n",
    "\n",
    "prompt_content = common_tools.read_file('./translate_prompt.md')\n",
    "origin_content = common_tools.read_file('/Users/Daglas/Desktop/暂存数据.md')\n",
    "prompt = ChatPromptTemplate.from_messages([\n",
    "    (\"system\", prompt_content),\n",
    "    (\"user\", \"{input}\")\n",
    "])\n",
    "\n",
    "model = ChatOpenAI(\n",
    "    base_url=base_url,\n",
    "    api_key=api_key,\n",
    "    model_name=model_name,\n",
    "    streaming=True\n",
    ")\n",
    "\n",
    "output_parser = StrOutputParser()\n",
    "\n",
    "def translate_once(origin_content):\n",
    "    chain = prompt | model | output_parser\n",
    "    response = chain.invoke({\"input\": origin_content})\n",
    "    out_content = common_tools.extract_translation(response)\n",
    "    out_content = common_tools.modify_text(out_content)\n",
    "    # 使用format()方法拼接字符串并加入换行符\n",
    "    result = \"{}\\n\\n{}\".format(origin_content, out_content)\n",
    "    return result\n",
    "\n",
    "# 步骤二：处理内容\n",
    "def process_chunks(chunks):\n",
    "    processed_chunks = []\n",
    "    for chunk in chunks:\n",
    "        modified_chunk = translate_once(chunk)\n",
    "        processed_chunks.append(modified_chunk)\n",
    "    return processed_chunks\n",
    "\n",
    "def merge_and_save_chunks(chunks, filename):\n",
    "    merged_text = '\\n\\n'.join(chunks)\n",
    "    with open(filename, 'w', encoding='utf-8') as file:\n",
    "        file.write(merged_text)\n",
    "\n",
    "def translate():\n",
    "    chunks = common_tools.split_text_by_length(origin_content)\n",
    "    processed_chunks = process_chunks(chunks)\n",
    "    merge_and_save_chunks(processed_chunks, '/Users/Daglas/Desktop/output.md')\n",
    "\n",
    "start_time = time.time()\n",
    "print('waiting...\\n')\n",
    "translate()\n",
    "end_time = time.time()\n",
    "print('Time Used: ' + str((end_time - start_time)/60) + 'min')"
   ]
  },
  {
   "cell_type": "code",
   "execution_count": 3,
   "metadata": {},
   "outputs": [
    {
     "name": "stdout",
     "output_type": "stream",
     "text": [
      "34\n",
      "56\n",
      "78\n"
     ]
    }
   ],
   "source": [
    "chunks = ['34', '56', '78']\n",
    "merged_text = '\\n\\n'.join(chunks)\n",
    "print(merged_text)"
   ]
  },
  {
   "cell_type": "code",
   "execution_count": 5,
   "metadata": {},
   "outputs": [
    {
     "name": "stdout",
     "output_type": "stream",
     "text": [
      "waiting...\n",
      "\n",
      "Time Used: 3.1901096304257712min\n"
     ]
    }
   ],
   "source": [
    "# -*- coding:utf-8 -*-\n",
    "from langchain_openai import ChatOpenAI\n",
    "from langchain_core.prompts import ChatPromptTemplate\n",
    "from langchain_core.output_parsers import StrOutputParser\n",
    "from langchain_core.runnables import RunnablePassthrough\n",
    "import time\n",
    "import api_key as api\n",
    "import common_tools as common_tools\n",
    "\n",
    "api_key = api.deepseek_api_key()\n",
    "base_url= 'https://api.deepseek.com/v1'\n",
    "model_name='deepseek-chat'\n",
    "\n",
    "prompt_content = common_tools.read_file('./translate_prompt.md')\n",
    "origin_content = common_tools.read_file('/Users/Daglas/Desktop/暂存数据.md')\n",
    "prompt = ChatPromptTemplate.from_messages([\n",
    "    (\"system\", prompt_content),\n",
    "    (\"user\", \"{input}\")\n",
    "])\n",
    "\n",
    "model = ChatOpenAI(\n",
    "    base_url=base_url,\n",
    "    api_key=api_key,\n",
    "    model_name=model_name,\n",
    "    streaming=True\n",
    ")\n",
    "\n",
    "output_parser = StrOutputParser()\n",
    "\n",
    "def translate_once(origin_content):\n",
    "    chain = prompt | model | output_parser\n",
    "    response = chain.invoke({\"input\": origin_content})\n",
    "    out_content = common_tools.extract_translation(response)\n",
    "    out_content = common_tools.modify_text(out_content)\n",
    "    # 使用format()方法拼接字符串并加入换行符\n",
    "    result = \"{}\\n\\n{}\".format(origin_content, out_content)\n",
    "    return result\n",
    "\n",
    "# 步骤二：处理内容\n",
    "def process_chunks(chunks):\n",
    "    processed_chunks = []\n",
    "    for chunk in chunks:\n",
    "        modified_chunk = translate_once(chunk)\n",
    "        processed_chunks.append(modified_chunk)\n",
    "    return processed_chunks\n",
    "\n",
    "def merge_and_save_chunks(chunks, filename):\n",
    "    merged_text = '\\n\\n'.join(chunks)\n",
    "    with open(filename, 'w', encoding='utf-8') as file:\n",
    "        file.write(merged_text)\n",
    "\n",
    "def translate():\n",
    "    chunks = common_tools.split_text_by_length(origin_content, 2000)\n",
    "    processed_chunks = process_chunks(chunks)\n",
    "    merge_and_save_chunks(processed_chunks, '/Users/Daglas/Desktop/output.md')\n",
    "\n",
    "start_time = time.time()\n",
    "print('waiting...\\n')\n",
    "translate()\n",
    "end_time = time.time()\n",
    "print('Time Used: ' + str((end_time - start_time)/60) + 'min')"
   ]
  },
  {
   "cell_type": "code",
   "execution_count": 9,
   "metadata": {},
   "outputs": [
    {
     "data": {
      "text/plain": [
       "<module 'common_tools' from '/Users/Daglas/dalong.llm/dalong.langchain/common_tools.py'>"
      ]
     },
     "execution_count": 9,
     "metadata": {},
     "output_type": "execute_result"
    }
   ],
   "source": [
    "import importlib\n",
    "importlib.reload(common_tools)"
   ]
  },
  {
   "cell_type": "code",
   "execution_count": 11,
   "metadata": {},
   "outputs": [
    {
     "name": "stdout",
     "output_type": "stream",
     "text": [
      "waiting...\n",
      "\n",
      "Time Used: 6.31313310066859min\n"
     ]
    }
   ],
   "source": [
    "# -*- coding:utf-8 -*-\n",
    "from langchain_openai import ChatOpenAI\n",
    "from langchain_core.prompts import ChatPromptTemplate\n",
    "from langchain_core.output_parsers import StrOutputParser\n",
    "from langchain_core.runnables import RunnablePassthrough\n",
    "import time\n",
    "import api_key as api\n",
    "import common_tools as common_tools\n",
    "\n",
    "api_key = api.deepseek_api_key()\n",
    "base_url= 'https://api.deepseek.com/v1'\n",
    "model_name='deepseek-chat'\n",
    "\n",
    "model = ChatOpenAI(\n",
    "    base_url=base_url,\n",
    "    api_key=api_key,\n",
    "    model_name=model_name,\n",
    "    streaming=True\n",
    ")\n",
    "\n",
    "output_parser = StrOutputParser()\n",
    "\n",
    "def translate_once(origin_content):\n",
    "    chain = prompt | model | output_parser\n",
    "    response = chain.invoke({\"input\": origin_content})\n",
    "    out_content = common_tools.extract_translation(response)\n",
    "    out_content = common_tools.modify_text(out_content)\n",
    "    result = out_content\n",
    "    # 使用format()方法拼接字符串并加入换行符\n",
    "#     result = \"{}\\n\\n{}\".format(origin_content, out_content)\n",
    "    return result\n",
    "\n",
    "# 步骤二：处理内容\n",
    "def process_chunks(chunks):\n",
    "    processed_chunks = []\n",
    "    for chunk in chunks:\n",
    "        modified_chunk = translate_once(chunk)\n",
    "        processed_chunks.append(modified_chunk)\n",
    "    return processed_chunks\n",
    "\n",
    "def merge_and_save_chunks(chunks, filename):\n",
    "    merged_text = '\\n\\n'.join(chunks)\n",
    "    with open(filename, 'w', encoding='utf-8') as file:\n",
    "        file.write(merged_text)\n",
    "\n",
    "def translate():\n",
    "    prompt_content = common_tools.read_file('./translate_prompt.md')\n",
    "    origin_content = common_tools.read_file('/Users/Daglas/Desktop/暂存数据.md')\n",
    "    prompt = ChatPromptTemplate.from_messages([\n",
    "        (\"system\", prompt_content),\n",
    "        (\"user\", \"{input}\")\n",
    "    ])\n",
    "    chunks = common_tools.split_text_by_length(origin_content, 2000)\n",
    "    processed_chunks = process_chunks(chunks)\n",
    "    merge_and_save_chunks(processed_chunks, '/Users/Daglas/Desktop/output.md')\n",
    "\n",
    "start_time = time.time()\n",
    "print('waiting...\\n')\n",
    "translate()\n",
    "end_time = time.time()\n",
    "print('Time Used: ' + str((end_time - start_time)/60) + 'min')"
   ]
  },
  {
   "cell_type": "code",
   "execution_count": null,
   "metadata": {},
   "outputs": [],
   "source": []
  }
 ],
 "metadata": {
  "kernelspec": {
   "display_name": "Python (llama)",
   "language": "python",
   "name": "llama"
  },
  "language_info": {
   "codemirror_mode": {
    "name": "ipython",
    "version": 3
   },
   "file_extension": ".py",
   "mimetype": "text/x-python",
   "name": "python",
   "nbconvert_exporter": "python",
   "pygments_lexer": "ipython3",
   "version": "3.10.13"
  }
 },
 "nbformat": 4,
 "nbformat_minor": 4
}
