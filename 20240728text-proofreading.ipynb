{
 "cells": [
  {
   "cell_type": "code",
   "execution_count": 9,
   "metadata": {},
   "outputs": [
    {
     "name": "stdout",
     "output_type": "stream",
     "text": [
      "waiting...\n",
      "\n",
      "Time Used: 0.1464410940806071min\n"
     ]
    }
   ],
   "source": [
    "# -*- coding:utf-8 -*-\n",
    "from langchain_openai import ChatOpenAI\n",
    "from langchain_core.prompts import ChatPromptTemplate\n",
    "from langchain_core.output_parsers import StrOutputParser\n",
    "from langchain_core.runnables import RunnableParallel, RunnablePassthrough\n",
    "import time, os\n",
    "import api_key as api\n",
    "import common_tools as common_tools\n",
    "\n",
    "api_key = api.openai_api_key()\n",
    "# 将API Key保存为环境变量\n",
    "os.environ[\"OPENAI_API_KEY\"] = api_key\n",
    "model_name = \"gpt-4o\"\n",
    "\n",
    "model = ChatOpenAI(\n",
    "    model_name=model_name,\n",
    "    streaming=True\n",
    ")\n",
    "\n",
    "output_parser = StrOutputParser()\n",
    "\n",
    "def proofreading():\n",
    "    prompt_content = common_tools.read_file(\"/Users/Daglas/dalong.llm/dalong.langchain/prompt_proofreading.md\")\n",
    "    origin_content = common_tools.read_file(\"/Users/Daglas/Desktop/input.md\")\n",
    "    out_filename = \"/Users/Daglas/Desktop/output.md\"\n",
    "\n",
    "    prompt = ChatPromptTemplate.from_messages([\n",
    "        (\"system\", prompt_content),\n",
    "        (\"user\", \"{text}\")\n",
    "    ])\n",
    "    \n",
    "    suggestion_chain = prompt | model | output_parser\n",
    "    \n",
    "    suggestion = suggestion_chain.invoke({\n",
    "      \"text\":origin_content\n",
    "    })\n",
    "\n",
    "    suggest_and_pass = RunnableParallel(\n",
    "      {\"suggestion\": suggestion_chain, \"text\": RunnablePassthrough()}\n",
    "    )\n",
    "\n",
    "    chain = suggest_and_pass | prompt | model | output_parser\n",
    "#     chain = suggest_and_pass | finish_prompt | model | output_parser\n",
    "\n",
    "    response = chain.invoke({\n",
    "      \"text\":origin_content,\n",
    "      \"suggestion\":suggestion\n",
    "    })\n",
    "\n",
    "#     out_content = common_tools.modify_text(out_content)\n",
    "    with open(out_filename, 'a', encoding='utf-8') as file:\n",
    "        file.write(response)\n",
    "\n",
    "if __name__ == '__main__':\n",
    "    start_time = time.time()\n",
    "    print('waiting...\\n')\n",
    "    proofreading()\n",
    "    end_time = time.time()\n",
    "    print('Time Used: ' + str((end_time - start_time)/60) + 'min')"
   ]
  },
  {
   "cell_type": "code",
   "execution_count": null,
   "metadata": {},
   "outputs": [],
   "source": []
  }
 ],
 "metadata": {
  "kernelspec": {
   "display_name": "Python (llama)",
   "language": "python",
   "name": "llama"
  },
  "language_info": {
   "codemirror_mode": {
    "name": "ipython",
    "version": 3
   },
   "file_extension": ".py",
   "mimetype": "text/x-python",
   "name": "python",
   "nbconvert_exporter": "python",
   "pygments_lexer": "ipython3",
   "version": "3.10.13"
  }
 },
 "nbformat": 4,
 "nbformat_minor": 4
}
