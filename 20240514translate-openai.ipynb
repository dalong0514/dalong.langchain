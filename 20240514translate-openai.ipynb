{
 "cells": [
  {
   "cell_type": "code",
   "execution_count": 2,
   "metadata": {},
   "outputs": [
    {
     "name": "stdout",
     "output_type": "stream",
     "text": [
      "世界轴心时代大约指公元前800年至公元前200年的时期，哲学家卡尔·雅斯贝尔斯提出了这一概念。他认为这个时期是人类思想发展的一个重要转折点，不同文明中涌现出多位哲学家、宗教领袖和思想家，他们的思想深刻影响了后世文明。轴心时代的四大主要人物通常被认为是：\n",
      "\n",
      "1. **孔子（公元前551年－公元前479年）**：古代中国伟大的思想家和教育家，儒家学派的创始人。他的思想涉及伦理、政治、教育等多个方面，对中国乃至整个东亚的文化和思想产生了深远影响。\n",
      "   \n",
      "2. **释迦牟尼（悉达多·乔达摩，公元前6世纪中叶—公元前5世纪初）**：佛教的创始人，他的教义强调四谛和八正道，影响遍及南亚、东南亚和东亚地区。\n",
      "\n",
      "3. **苏格拉底（约公元前469年－公元前399年）**：古希腊的哲学家，被认为是西方哲学的奠基人之一。他的教学方法主要是通过对话和质疑，探讨伦理学和知识论，对后来的柏拉图和亚里士多德等思想家产生了重要影响。\n",
      "\n",
      "4. **耶稣（约公元前4年－公元30年）**：基督教的创立者和中心人物。他的教导和生平故事记录在《新约圣经》中，对世界历史和文化尤其是西方文明有着极为深远的影响。\n",
      "\n",
      "这些人物所代表的思想体系不仅在他们所处的时代具有重要意义，还在随后的历史进程中经久不衰，对各自文化圈产生了深远和持久的影响。"
     ]
    }
   ],
   "source": [
    "# -*- coding:utf-8 -*-\n",
    "from langchain_openai import ChatOpenAI\n",
    "from langchain_core.prompts import ChatPromptTemplate\n",
    "from langchain_core.output_parsers import StrOutputParser\n",
    "from langchain_core.runnables import RunnablePassthrough\n",
    "import time, os\n",
    "import api_key as api\n",
    "import common_tools as common_tools\n",
    "\n",
    "api_key = api.openai_api_key()\n",
    "# 将API Key保存为环境变量\n",
    "os.environ[\"OPENAI_API_KEY\"] = api_key\n",
    "model_name='gpt-4o'\n",
    "\n",
    "model = ChatOpenAI(\n",
    "    model_name=model_name,\n",
    "    temperature=1.1,\n",
    "    streaming=True\n",
    ")\n",
    "\n",
    "output_parser = StrOutputParser()\n",
    "\n",
    "chain = model | output_parser\n",
    "response = chain.stream(\"世界轴心时代的四位圣人\")\n",
    "\n",
    "for value in response:\n",
    "    print(value, end='', flush=True)"
   ]
  },
  {
   "cell_type": "code",
   "execution_count": 12,
   "metadata": {},
   "outputs": [
    {
     "name": "stdout",
     "output_type": "stream",
     "text": [
      "waiting...\n",
      "\n",
      "Time Used: 9.816507228215535min\n"
     ]
    }
   ],
   "source": [
    "# -*- coding:utf-8 -*-\n",
    "from langchain_openai import ChatOpenAI\n",
    "from langchain_core.prompts import ChatPromptTemplate\n",
    "from langchain_core.output_parsers import StrOutputParser\n",
    "from langchain_core.runnables import RunnablePassthrough\n",
    "import time, os\n",
    "import api_key as api\n",
    "import common_tools as common_tools\n",
    "\n",
    "api_key = api.openai_api_key()\n",
    "# 将API Key保存为环境变量\n",
    "os.environ[\"OPENAI_API_KEY\"] = api_key\n",
    "model_name='gpt-4o'\n",
    "\n",
    "model = ChatOpenAI(\n",
    "    model_name=model_name,\n",
    "    streaming=True\n",
    ")\n",
    "\n",
    "output_parser = StrOutputParser()\n",
    "\n",
    "def translate_once(prompt, origin_content):\n",
    "    chain = prompt | model | output_parser\n",
    "    response = chain.invoke({\"input\": origin_content})\n",
    "    out_content = common_tools.extract_translation(response)\n",
    "    out_content = common_tools.modify_text(out_content)\n",
    "    result = out_content\n",
    "    # 使用format()方法拼接字符串并加入换行符\n",
    "    # result = \"{}\\n\\n{}\".format(origin_content, out_content)\n",
    "    return result\n",
    "\n",
    "# 步骤二：处理内容\n",
    "def process_chunks(prompt, chunks):\n",
    "    processed_chunks = []\n",
    "    for chunk in chunks:\n",
    "        modified_chunk = translate_once(prompt, chunk)\n",
    "        processed_chunks.append(modified_chunk)\n",
    "    return processed_chunks\n",
    "\n",
    "def merge_and_save_chunks(chunks, filename):\n",
    "    merged_text = '\\n\\n'.join(chunks)\n",
    "    with open(filename, 'w', encoding='utf-8') as file:\n",
    "        file.write(merged_text)\n",
    "\n",
    "def translate():\n",
    "    prompt_content = common_tools.read_file('./translate_prompt.md')\n",
    "    origin_content = common_tools.read_file('/Users/Daglas/Desktop/input.md')\n",
    "    prompt = ChatPromptTemplate.from_messages([\n",
    "        (\"system\", prompt_content),\n",
    "        (\"user\", \"{input}\")\n",
    "    ])\n",
    "    chunks = common_tools.split_text_by_length(origin_content, 2000)\n",
    "    processed_chunks = process_chunks(prompt, chunks)\n",
    "    merge_and_save_chunks(processed_chunks, '/Users/Daglas/Desktop/output.md')\n",
    "\n",
    "start_time = time.time()\n",
    "print('waiting...\\n')\n",
    "translate()\n",
    "end_time = time.time()\n",
    "print('Time Used: ' + str((end_time - start_time)/60) + 'min')"
   ]
  },
  {
   "cell_type": "code",
   "execution_count": null,
   "metadata": {},
   "outputs": [],
   "source": []
  }
 ],
 "metadata": {
  "kernelspec": {
   "display_name": "Python (llama)",
   "language": "python",
   "name": "llama"
  },
  "language_info": {
   "codemirror_mode": {
    "name": "ipython",
    "version": 3
   },
   "file_extension": ".py",
   "mimetype": "text/x-python",
   "name": "python",
   "nbconvert_exporter": "python",
   "pygments_lexer": "ipython3",
   "version": "3.10.13"
  }
 },
 "nbformat": 4,
 "nbformat_minor": 4
}
