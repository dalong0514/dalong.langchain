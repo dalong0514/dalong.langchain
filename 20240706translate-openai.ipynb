{
 "cells": [
  {
   "cell_type": "code",
   "execution_count": 2,
   "metadata": {},
   "outputs": [
    {
     "name": "stdout",
     "output_type": "stream",
     "text": [
      "waiting...\n",
      "\n",
      "Time Used: 1.1822569171587627min\n"
     ]
    }
   ],
   "source": [
    "# -*- coding:utf-8 -*-\n",
    "from langchain_openai import ChatOpenAI\n",
    "from langchain_core.prompts import ChatPromptTemplate\n",
    "from langchain_core.output_parsers import StrOutputParser\n",
    "from langchain_core.runnables import RunnablePassthrough\n",
    "import time, os\n",
    "import api_key as api\n",
    "import common_tools as common_tools\n",
    "\n",
    "api_key = api.openai_api_key()\n",
    "# 将API Key保存为环境变量\n",
    "os.environ[\"OPENAI_API_KEY\"] = api_key\n",
    "model_name='gpt-4o-mini'\n",
    "# model_name='gpt-4o'\n",
    "\n",
    "model = ChatOpenAI(\n",
    "    model_name=model_name,\n",
    "    streaming=True\n",
    ")\n",
    "\n",
    "output_parser = StrOutputParser()\n",
    "\n",
    "def translate_once(prompt, origin_content, filename):\n",
    "    chain = prompt | model | output_parser\n",
    "    response = chain.invoke({\"input\": origin_content})\n",
    "    out_content = common_tools.extract_translation(response)\n",
    "    out_content = common_tools.modify_text(out_content)\n",
    "    with open(filename, 'a', encoding='utf-8') as file:\n",
    "        file.write('\\n' + origin_content + '\\n\\n' + out_content + '\\n')\n",
    "\n",
    "# 步骤二：处理内容\n",
    "def process_chunks(prompt, chunks, filename):\n",
    "    for chunk in chunks:\n",
    "        modified_chunk = translate_once(prompt, chunk, filename)\n",
    "\n",
    "def translate():\n",
    "    prompt_content = common_tools.read_file('./prompt_translate.md')\n",
    "    origin_content = common_tools.read_file('/Users/Daglas/Desktop/input.md')\n",
    "    prompt = ChatPromptTemplate.from_messages([\n",
    "        (\"system\", prompt_content),\n",
    "        (\"user\", \"{input}\")\n",
    "    ])\n",
    "    chunks = common_tools.split_text_by_length(origin_content, 1500)\n",
    "    process_chunks(prompt, chunks, '/Users/Daglas/Desktop/output.md')\n",
    "\n",
    "start_time = time.time()\n",
    "print('waiting...\\n')\n",
    "translate()\n",
    "end_time = time.time()\n",
    "print('Time Used: ' + str((end_time - start_time)/60) + 'min')"
   ]
  },
  {
   "cell_type": "code",
   "execution_count": null,
   "metadata": {},
   "outputs": [],
   "source": []
  }
 ],
 "metadata": {
  "kernelspec": {
   "display_name": "Python (llama)",
   "language": "python",
   "name": "llama"
  },
  "language_info": {
   "codemirror_mode": {
    "name": "ipython",
    "version": 3
   },
   "file_extension": ".py",
   "mimetype": "text/x-python",
   "name": "python",
   "nbconvert_exporter": "python",
   "pygments_lexer": "ipython3",
   "version": "3.10.13"
  }
 },
 "nbformat": 4,
 "nbformat_minor": 4
}
