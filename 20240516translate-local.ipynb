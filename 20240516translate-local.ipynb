{
 "cells": [
  {
   "cell_type": "code",
   "execution_count": 8,
   "id": "4827c829-203e-449b-858a-3359ab639fd8",
   "metadata": {},
   "outputs": [
    {
     "name": "stdout",
     "output_type": "stream",
     "text": [
      "waiting...\n",
      "\n",
      "Time Used: 4.342482634385427min\n"
     ]
    }
   ],
   "source": [
    "# -*- coding:utf-8 -*-\n",
    "from langchain_openai import ChatOpenAI\n",
    "from langchain_core.prompts import ChatPromptTemplate\n",
    "from langchain_core.output_parsers import StrOutputParser\n",
    "from langchain_core.runnables import RunnablePassthrough\n",
    "import time, os\n",
    "import api_key as api\n",
    "import common_tools as common_tools\n",
    "\n",
    "api_key = api.openai_api_key()\n",
    "# 将API Key保存为环境变量\n",
    "os.environ[\"OPENAI_API_KEY\"] = api_key\n",
    "\n",
    "base_url= 'http://192.168.10.107:11434/v1'\n",
    "model_name='qwen2:72b'\n",
    "# model_name='qwen:110b'\n",
    "\n",
    "model = ChatOpenAI(\n",
    "    base_url=base_url,\n",
    "    model_name=model_name,\n",
    "    temperature=1.1,\n",
    "    streaming=True\n",
    ")\n",
    "\n",
    "output_parser = StrOutputParser()\n",
    "\n",
    "def translate_once(prompt, origin_content):\n",
    "    chain = prompt | model | output_parser\n",
    "    response = chain.invoke({\"input\": origin_content})\n",
    "    out_content = common_tools.extract_translation(response)\n",
    "    out_content = common_tools.modify_text(out_content)\n",
    "    result = out_content\n",
    "    # 使用format()方法拼接字符串并加入换行符\n",
    "    # result = \"{}\\n\\n{}\".format(origin_content, out_content)\n",
    "    return result\n",
    "\n",
    "# 步骤二：处理内容\n",
    "def process_chunks(prompt, chunks):\n",
    "    processed_chunks = []\n",
    "    for chunk in chunks:\n",
    "        modified_chunk = translate_once(prompt, chunk)\n",
    "        processed_chunks.append(modified_chunk)\n",
    "    return processed_chunks\n",
    "\n",
    "def merge_and_save_chunks(chunks, filename):\n",
    "    merged_text = '\\n\\n'.join(chunks)\n",
    "    with open(filename, 'w', encoding='utf-8') as file:\n",
    "        file.write(merged_text)\n",
    "\n",
    "def translate():\n",
    "    prompt_content = common_tools.read_file('./translate_prompt.md')\n",
    "    origin_content = common_tools.read_file('/Users/Daglas/Desktop/input.md')\n",
    "    prompt = ChatPromptTemplate.from_messages([\n",
    "        (\"system\", prompt_content),\n",
    "        (\"user\", \"{input}\")\n",
    "    ])\n",
    "    chunks = common_tools.split_text_by_length(origin_content, 2000)\n",
    "    processed_chunks = process_chunks(prompt, chunks)\n",
    "    merge_and_save_chunks(processed_chunks, '/Users/Daglas/Desktop/output.md')\n",
    "\n",
    "start_time = time.time()\n",
    "print('waiting...\\n')\n",
    "translate()\n",
    "end_time = time.time()\n",
    "print('Time Used: ' + str((end_time - start_time)/60) + 'min')"
   ]
  },
  {
   "cell_type": "code",
   "execution_count": null,
   "id": "c85ab52c-987c-4a9a-ae70-7415ad517b3c",
   "metadata": {},
   "outputs": [],
   "source": []
  }
 ],
 "metadata": {
  "kernelspec": {
   "display_name": "Python (llama)",
   "language": "python",
   "name": "llama"
  },
  "language_info": {
   "codemirror_mode": {
    "name": "ipython",
    "version": 3
   },
   "file_extension": ".py",
   "mimetype": "text/x-python",
   "name": "python",
   "nbconvert_exporter": "python",
   "pygments_lexer": "ipython3",
   "version": "3.10.13"
  }
 },
 "nbformat": 4,
 "nbformat_minor": 5
}
