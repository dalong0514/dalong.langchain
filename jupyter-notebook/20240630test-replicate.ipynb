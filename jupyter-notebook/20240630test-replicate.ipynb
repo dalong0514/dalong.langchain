{
 "cells": [
  {
   "cell_type": "code",
   "execution_count": 3,
   "metadata": {
    "scrolled": false
   },
   "outputs": [],
   "source": [
    "import os\n",
    "os.environ[\"REPLICATE_API_TOKEN\"] = \"r8_I5gBVDBv6owZm20VbaGY7npN1rRhHlC1N8j7B\""
   ]
  },
  {
   "cell_type": "code",
   "execution_count": 12,
   "metadata": {},
   "outputs": [
    {
     "name": "stdout",
     "output_type": "stream",
     "text": [
      "id='7bpzkchv31rgp0cgd05sw9ecg8' model='meta/llama-2-7b' version='73001d654114dad81ec65da3b834e2f691af1e1526453189b7bf36fb3f32d0f9' destination=None status='starting' input={'train_data': 'https://raw.githubusercontent.com/cbh123/elixir_gen/main/outputs/docstrings.jsonl'} output=None logs='' error=None created_at='2024-06-30T07:28:04.888Z' started_at=None completed_at=None urls={'cancel': 'https://api.replicate.com/v1/predictions/7bpzkchv31rgp0cgd05sw9ecg8/cancel', 'get': 'https://api.replicate.com/v1/predictions/7bpzkchv31rgp0cgd05sw9ecg8'}\n"
     ]
    }
   ],
   "source": [
    "import replicate\n",
    "import os\n",
    "os.environ[\"REPLICATE_API_TOKEN\"] = \"r8_I5gBVDBv6owZm20VbaGY7npN1rRhHlC1N8j7B\"\n",
    "\n",
    "training = replicate.trainings.create(\n",
    "  version=\"meta/llama-2-7b:73001d654114dad81ec65da3b834e2f691af1e1526453189b7bf36fb3f32d0f9\",\n",
    "  input={\n",
    "    \"train_data\": \"https://raw.githubusercontent.com/cbh123/elixir_gen/main/outputs/docstrings.jsonl\",\n",
    "  },\n",
    "  destination=\"dalong0514/test-elixir\"\n",
    ")\n",
    "\n",
    "print(training)\n",
    "\n"
   ]
  },
  {
   "cell_type": "code",
   "execution_count": null,
   "metadata": {},
   "outputs": [],
   "source": []
  }
 ],
 "metadata": {
  "kernelspec": {
   "display_name": "Python (llama)",
   "language": "python",
   "name": "llama"
  },
  "language_info": {
   "codemirror_mode": {
    "name": "ipython",
    "version": 3
   },
   "file_extension": ".py",
   "mimetype": "text/x-python",
   "name": "python",
   "nbconvert_exporter": "python",
   "pygments_lexer": "ipython3",
   "version": "3.10.13"
  }
 },
 "nbformat": 4,
 "nbformat_minor": 4
}
